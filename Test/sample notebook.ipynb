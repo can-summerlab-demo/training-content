{
 "cells": [
  {
   "cell_type": "code",
   "execution_count": 1,
   "id": "83f2083f",
   "metadata": {},
   "outputs": [],
   "source": [
    "import pandas as pd"
   ]
  },
  {
   "cell_type": "markdown",
   "id": "8de5c8a0",
   "metadata": {},
   "source": [
    "### show hilo local image\n",
    "\n",
    "![](hilo.jpeg)"
   ]
  },
  {
   "cell_type": "code",
   "execution_count": 3,
   "id": "39076511",
   "metadata": {},
   "outputs": [],
   "source": [
    "data = pd.read_csv('hilo_yelpdata.csv')"
   ]
  },
  {
   "cell_type": "code",
   "execution_count": 4,
   "id": "0ffda3ce",
   "metadata": {},
   "outputs": [
    {
     "data": {
      "text/html": [
       "<div>\n",
       "<style scoped>\n",
       "    .dataframe tbody tr th:only-of-type {\n",
       "        vertical-align: middle;\n",
       "    }\n",
       "\n",
       "    .dataframe tbody tr th {\n",
       "        vertical-align: top;\n",
       "    }\n",
       "\n",
       "    .dataframe thead th {\n",
       "        text-align: right;\n",
       "    }\n",
       "</style>\n",
       "<table border=\"1\" class=\"dataframe\">\n",
       "  <thead>\n",
       "    <tr style=\"text-align: right;\">\n",
       "      <th></th>\n",
       "      <th>Unnamed: 0</th>\n",
       "      <th>Name</th>\n",
       "      <th>Address</th>\n",
       "      <th>Coordinates</th>\n",
       "      <th>Lat</th>\n",
       "      <th>Long</th>\n",
       "      <th>euc_diff</th>\n",
       "    </tr>\n",
       "  </thead>\n",
       "  <tbody>\n",
       "    <tr>\n",
       "      <th>0</th>\n",
       "      <td>0</td>\n",
       "      <td>Hilo Bay Medical Clinic</td>\n",
       "      <td>24 Pukihae Street, Hilo</td>\n",
       "      <td>POINT (-155.0879458 19.7301366)</td>\n",
       "      <td>19.730137</td>\n",
       "      <td>-155.087946</td>\n",
       "      <td>0.071519</td>\n",
       "    </tr>\n",
       "    <tr>\n",
       "      <th>1</th>\n",
       "      <td>1</td>\n",
       "      <td>Wild Ginger Hotel</td>\n",
       "      <td>100 Puueo Street, Hilo</td>\n",
       "      <td>POINT (-155.0891752 19.7293163)</td>\n",
       "      <td>19.729316</td>\n",
       "      <td>-155.089175</td>\n",
       "      <td>0.072544</td>\n",
       "    </tr>\n",
       "    <tr>\n",
       "      <th>2</th>\n",
       "      <td>2</td>\n",
       "      <td>Dolphin Bay Hotel</td>\n",
       "      <td>333 Iliahi Street, Hilo</td>\n",
       "      <td>POINT (-155.0904265 19.7292288)</td>\n",
       "      <td>19.729229</td>\n",
       "      <td>-155.090427</td>\n",
       "      <td>0.073751</td>\n",
       "    </tr>\n",
       "    <tr>\n",
       "      <th>3</th>\n",
       "      <td>3</td>\n",
       "      <td>Hilo Bay Oceanfront Bed and Breakfast</td>\n",
       "      <td>56 Pukihae Street, Hilo</td>\n",
       "      <td>POINT (-155.0881646 19.7309761)</td>\n",
       "      <td>19.730976</td>\n",
       "      <td>-155.088165</td>\n",
       "      <td>0.071922</td>\n",
       "    </tr>\n",
       "    <tr>\n",
       "      <th>4</th>\n",
       "      <td>4</td>\n",
       "      <td>11 Arruda Ln.</td>\n",
       "      <td>Hilo</td>\n",
       "      <td>POINT (-155.08903 19.728593)</td>\n",
       "      <td>19.728593</td>\n",
       "      <td>-155.089030</td>\n",
       "      <td>0.072255</td>\n",
       "    </tr>\n",
       "  </tbody>\n",
       "</table>\n",
       "</div>"
      ],
      "text/plain": [
       "   Unnamed: 0                                   Name                  Address  \\\n",
       "0           0                Hilo Bay Medical Clinic  24 Pukihae Street, Hilo   \n",
       "1           1                      Wild Ginger Hotel   100 Puueo Street, Hilo   \n",
       "2           2                      Dolphin Bay Hotel  333 Iliahi Street, Hilo   \n",
       "3           3  Hilo Bay Oceanfront Bed and Breakfast  56 Pukihae Street, Hilo   \n",
       "4           4                          11 Arruda Ln.                     Hilo   \n",
       "\n",
       "                       Coordinates        Lat        Long  euc_diff  \n",
       "0  POINT (-155.0879458 19.7301366)  19.730137 -155.087946  0.071519  \n",
       "1  POINT (-155.0891752 19.7293163)  19.729316 -155.089175  0.072544  \n",
       "2  POINT (-155.0904265 19.7292288)  19.729229 -155.090427  0.073751  \n",
       "3  POINT (-155.0881646 19.7309761)  19.730976 -155.088165  0.071922  \n",
       "4     POINT (-155.08903 19.728593)  19.728593 -155.089030  0.072255  "
      ]
     },
     "execution_count": 4,
     "metadata": {},
     "output_type": "execute_result"
    }
   ],
   "source": [
    "data.head()"
   ]
  },
  {
   "cell_type": "markdown",
   "id": "3a486fee",
   "metadata": {},
   "source": [
    "#### show hilo web image\n",
    "\n",
    "![](https://2dadswithbaggage.com/wp-content/uploads/2020/10/IMG_2551-1536x1152.jpeg)"
   ]
  },
  {
   "cell_type": "code",
   "execution_count": 7,
   "id": "628f4d12",
   "metadata": {},
   "outputs": [],
   "source": [
    "online_data = pd.read_csv('https://raw.githubusercontent.com/can-summerlab-demo/training-content/main/hilo_yelpdata.csv')"
   ]
  },
  {
   "cell_type": "code",
   "execution_count": 8,
   "id": "dde58bb8",
   "metadata": {},
   "outputs": [
    {
     "data": {
      "text/html": [
       "<div>\n",
       "<style scoped>\n",
       "    .dataframe tbody tr th:only-of-type {\n",
       "        vertical-align: middle;\n",
       "    }\n",
       "\n",
       "    .dataframe tbody tr th {\n",
       "        vertical-align: top;\n",
       "    }\n",
       "\n",
       "    .dataframe thead th {\n",
       "        text-align: right;\n",
       "    }\n",
       "</style>\n",
       "<table border=\"1\" class=\"dataframe\">\n",
       "  <thead>\n",
       "    <tr style=\"text-align: right;\">\n",
       "      <th></th>\n",
       "      <th>Unnamed: 0</th>\n",
       "      <th>Name</th>\n",
       "      <th>Address</th>\n",
       "      <th>Coordinates</th>\n",
       "      <th>Lat</th>\n",
       "      <th>Long</th>\n",
       "      <th>euc_diff</th>\n",
       "    </tr>\n",
       "  </thead>\n",
       "  <tbody>\n",
       "    <tr>\n",
       "      <th>0</th>\n",
       "      <td>0</td>\n",
       "      <td>Hilo Bay Medical Clinic</td>\n",
       "      <td>24 Pukihae Street, Hilo</td>\n",
       "      <td>POINT (-155.0879458 19.7301366)</td>\n",
       "      <td>19.730137</td>\n",
       "      <td>-155.087946</td>\n",
       "      <td>0.071519</td>\n",
       "    </tr>\n",
       "    <tr>\n",
       "      <th>1</th>\n",
       "      <td>1</td>\n",
       "      <td>Wild Ginger Hotel</td>\n",
       "      <td>100 Puueo Street, Hilo</td>\n",
       "      <td>POINT (-155.0891752 19.7293163)</td>\n",
       "      <td>19.729316</td>\n",
       "      <td>-155.089175</td>\n",
       "      <td>0.072544</td>\n",
       "    </tr>\n",
       "    <tr>\n",
       "      <th>2</th>\n",
       "      <td>2</td>\n",
       "      <td>Dolphin Bay Hotel</td>\n",
       "      <td>333 Iliahi Street, Hilo</td>\n",
       "      <td>POINT (-155.0904265 19.7292288)</td>\n",
       "      <td>19.729229</td>\n",
       "      <td>-155.090427</td>\n",
       "      <td>0.073751</td>\n",
       "    </tr>\n",
       "    <tr>\n",
       "      <th>3</th>\n",
       "      <td>3</td>\n",
       "      <td>Hilo Bay Oceanfront Bed and Breakfast</td>\n",
       "      <td>56 Pukihae Street, Hilo</td>\n",
       "      <td>POINT (-155.0881646 19.7309761)</td>\n",
       "      <td>19.730976</td>\n",
       "      <td>-155.088165</td>\n",
       "      <td>0.071922</td>\n",
       "    </tr>\n",
       "    <tr>\n",
       "      <th>4</th>\n",
       "      <td>4</td>\n",
       "      <td>11 Arruda Ln.</td>\n",
       "      <td>Hilo</td>\n",
       "      <td>POINT (-155.08903 19.728593)</td>\n",
       "      <td>19.728593</td>\n",
       "      <td>-155.089030</td>\n",
       "      <td>0.072255</td>\n",
       "    </tr>\n",
       "  </tbody>\n",
       "</table>\n",
       "</div>"
      ],
      "text/plain": [
       "   Unnamed: 0                                   Name                  Address  \\\n",
       "0           0                Hilo Bay Medical Clinic  24 Pukihae Street, Hilo   \n",
       "1           1                      Wild Ginger Hotel   100 Puueo Street, Hilo   \n",
       "2           2                      Dolphin Bay Hotel  333 Iliahi Street, Hilo   \n",
       "3           3  Hilo Bay Oceanfront Bed and Breakfast  56 Pukihae Street, Hilo   \n",
       "4           4                          11 Arruda Ln.                     Hilo   \n",
       "\n",
       "                       Coordinates        Lat        Long  euc_diff  \n",
       "0  POINT (-155.0879458 19.7301366)  19.730137 -155.087946  0.071519  \n",
       "1  POINT (-155.0891752 19.7293163)  19.729316 -155.089175  0.072544  \n",
       "2  POINT (-155.0904265 19.7292288)  19.729229 -155.090427  0.073751  \n",
       "3  POINT (-155.0881646 19.7309761)  19.730976 -155.088165  0.071922  \n",
       "4     POINT (-155.08903 19.728593)  19.728593 -155.089030  0.072255  "
      ]
     },
     "execution_count": 8,
     "metadata": {},
     "output_type": "execute_result"
    }
   ],
   "source": [
    "online_data.head()"
   ]
  },
  {
   "cell_type": "code",
   "execution_count": null,
   "id": "f9599623",
   "metadata": {},
   "outputs": [],
   "source": []
  }
 ],
 "metadata": {
  "kernelspec": {
   "display_name": "Python 3 (ipykernel)",
   "language": "python",
   "name": "python3"
  },
  "language_info": {
   "codemirror_mode": {
    "name": "ipython",
    "version": 3
   },
   "file_extension": ".py",
   "mimetype": "text/x-python",
   "name": "python",
   "nbconvert_exporter": "python",
   "pygments_lexer": "ipython3",
   "version": "3.9.12"
  }
 },
 "nbformat": 4,
 "nbformat_minor": 5
}
