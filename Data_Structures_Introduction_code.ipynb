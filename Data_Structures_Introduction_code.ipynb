{
 "cells": [
  {
   "cell_type": "markdown",
   "id": "09367a86",
   "metadata": {},
   "source": [
    "# Data Structures!\n",
    "\n",
    "Monday, June 12 2023\n",
    "\n",
    "Notebook Author: Susanna Lange, PhD"
   ]
  },
  {
   "cell_type": "markdown",
   "id": "6677cca0",
   "metadata": {
    "slideshow": {
     "slide_type": "slide"
    }
   },
   "source": [
    "## Goals: \n",
    "\n",
    "- Methods of storing data\n",
    "    - Lists\n",
    "    - Arrays\n",
    "    - Dictionaries\n",
    "    - DataFrames !\n",
    "    \n",
    "- Along the way\n",
    "    - Built in Functions\n",
    "    - Methods"
   ]
  },
  {
   "cell_type": "markdown",
   "id": "176386eb",
   "metadata": {
    "slideshow": {
     "slide_type": "slide"
    }
   },
   "source": [
    "## Grouping and Storing Data\n",
    "\n",
    "Python and its libraries provide many ways to group data together.   Some important ones:\n",
    "\n",
    "- Lists, Tuples, Sets, Dictionaries (built-in to Python)\n",
    "\n",
    "- Arrays (found in the NumPy library)\n",
    "\n",
    "- DataFrames (in Pandas)"
   ]
  },
  {
   "cell_type": "markdown",
   "id": "34b2d594",
   "metadata": {
    "slideshow": {
     "slide_type": "fragment"
    }
   },
   "source": [
    "The above are listed in order of increasing functionality and sophistication\n",
    "<br>\n",
    "In general you should use the simplest one that meets your needs...\n"
   ]
  },
  {
   "cell_type": "markdown",
   "id": "ac8ef4cf",
   "metadata": {
    "slideshow": {
     "slide_type": "slide"
    }
   },
   "source": [
    "\n",
    "## Sequences (built into Python)\n",
    "\n",
    "\n",
    "Sequences - basic type of structure to group data. <br>\n",
    "\n",
    "The most important are **lists**! (**sets** and **tuples** also fall into this category)\n",
    "\n",
    "\n",
    "\n",
    "\n",
    "A **list** is an ordered sequence of values that can be changed - mutable objects (in basic python...no library needed)\n",
    "\n",
    "\n",
    "\n",
    "- Create a list with square brackets \"[]\"\n",
    "\n"
   ]
  },
  {
   "cell_type": "markdown",
   "id": "89cabc59",
   "metadata": {
    "slideshow": {
     "slide_type": "slide"
    }
   },
   "source": [
    "### Let's create a list! "
   ]
  },
  {
   "cell_type": "code",
   "execution_count": null,
   "id": "7195af50",
   "metadata": {
    "slideshow": {
     "slide_type": "fragment"
    }
   },
   "outputs": [],
   "source": [
    "#each element is separated by commas\n",
    "\n",
    "School_locations = [\"California\", \"Illinois\", \"North Carolina\", \"Texas\", \"Georgia\", \"Washington D.C.\"]  \n",
    "School_locations"
   ]
  },
  {
   "cell_type": "markdown",
   "id": "690589f6",
   "metadata": {
    "slideshow": {
     "slide_type": "fragment"
    }
   },
   "source": [
    "#### Lists can have values of different types!\n"
   ]
  },
  {
   "cell_type": "code",
   "execution_count": null,
   "id": "275d9c59",
   "metadata": {
    "slideshow": {
     "slide_type": "fragment"
    }
   },
   "outputs": [],
   "source": [
    "Random_stuff = [\"California\", 38, 3.14159] #A string, int, float\n",
    "Random_stuff"
   ]
  },
  {
   "cell_type": "markdown",
   "id": "90380d8d",
   "metadata": {
    "slideshow": {
     "slide_type": "slide"
    }
   },
   "source": [
    "### From Morning Session...Built-in Functions\n",
    "\n",
    "\n",
    "Recall Python has built-in functions of the form ```function_name()```\n",
    "A very common one is the ```print()``` function!\n",
    "\n",
    "```type()``` is another important function. As you saw, we can call this on a number, string, list, or any object to see type it is!\n"
   ]
  },
  {
   "cell_type": "code",
   "execution_count": null,
   "id": "0d074f4e",
   "metadata": {
    "slideshow": {
     "slide_type": "fragment"
    }
   },
   "outputs": [],
   "source": [
    "print(\"California\")\n",
    "print(type(\"California\"))\n",
    "print(type(38))\n",
    "print(type(\"38\"))\n",
    "print(type(3.14))\n",
    "print(type(Random_stuff))"
   ]
  },
  {
   "cell_type": "markdown",
   "id": "b4c3b8f4",
   "metadata": {
    "slideshow": {
     "slide_type": "slide"
    }
   },
   "source": [
    "## What can we do with lists?\n",
    " \n",
    "\n",
    " - Extraction and Slicing (extracting elements and sub-lists)\n",
    "\n",
    " \n",
    " - Methods and Built-in Functions"
   ]
  },
  {
   "cell_type": "markdown",
   "id": "558e6388",
   "metadata": {
    "slideshow": {
     "slide_type": "slide"
    }
   },
   "source": [
    "## Accessing values from a list\n",
    "\n",
    "\n",
    "Each element of a sequence is assigned an index corresponding to its position where **indices starts at 0**. We can access an element by calling the sequence or list and putting in square brackets the element we want!\n"
   ]
  },
  {
   "cell_type": "code",
   "execution_count": null,
   "id": "a4138f88",
   "metadata": {
    "slideshow": {
     "slide_type": "fragment"
    }
   },
   "outputs": [],
   "source": [
    "School_locations = [\"California\", \"Illinois\", \"North Carolina\", \"Texas\", \"Georgia\", \"Washington D.C.\"]  "
   ]
  },
  {
   "cell_type": "code",
   "execution_count": null,
   "id": "c7f296ba",
   "metadata": {
    "slideshow": {
     "slide_type": "fragment"
    }
   },
   "outputs": [],
   "source": [
    "School_locations[1]"
   ]
  },
  {
   "cell_type": "code",
   "execution_count": null,
   "id": "197cf6ff",
   "metadata": {
    "slideshow": {
     "slide_type": "fragment"
    }
   },
   "outputs": [],
   "source": [
    "School_locations[0]"
   ]
  },
  {
   "cell_type": "markdown",
   "id": "5e7a5f6c",
   "metadata": {
    "slideshow": {
     "slide_type": "slide"
    }
   },
   "source": [
    "### <mark style=\"background-color: Thistle\"> Code comprehension - Multiple Choice</mark>\n",
    "\n",
    "\n",
    "There are six elements in our list ```School_locations```, what will happen when we run the following code? \n",
    "\n",
    "\n",
    "```python \n",
    "School_locations = [\"California\", \"Illinois\", \"North Carolina\", \"Texas\", \"Georgia\", \"Washington D.C.\"] \n",
    "\n",
    "School_locations[6]\n",
    "```\n"
   ]
  },
  {
   "cell_type": "markdown",
   "id": "ae4667be",
   "metadata": {
    "slideshow": {
     "slide_type": "notes"
    }
   },
   "source": [
    "Answer here"
   ]
  },
  {
   "cell_type": "markdown",
   "id": "32115934",
   "metadata": {
    "slideshow": {
     "slide_type": "slide"
    }
   },
   "source": [
    "## Accessing values from a list\n",
    "\n",
    "\n",
    "Negative indexes count from the end of the sequence\n"
   ]
  },
  {
   "cell_type": "code",
   "execution_count": null,
   "id": "fd7d14a1",
   "metadata": {
    "slideshow": {
     "slide_type": "fragment"
    }
   },
   "outputs": [],
   "source": [
    "School_locations[-1]"
   ]
  },
  {
   "cell_type": "markdown",
   "id": "06850100",
   "metadata": {
    "slideshow": {
     "slide_type": "fragment"
    }
   },
   "source": [
    "If our list is long or we want the first or second from end this is useful!"
   ]
  },
  {
   "cell_type": "markdown",
   "id": "0033412f",
   "metadata": {
    "slideshow": {
     "slide_type": "slide"
    }
   },
   "source": [
    "### We can also extract a \"slice\" of a list\n",
    "\n",
    "\n",
    "The range of elements can be specified with colons. The output is a list starting at left index and stopping at (right index -1). Half-closed interval \\[start,end)\n",
    "\n",
    "\n",
    "\n",
    "```python \n",
    "list[start: end]\n",
    "```\n"
   ]
  },
  {
   "cell_type": "code",
   "execution_count": null,
   "id": "6f1fde90",
   "metadata": {
    "slideshow": {
     "slide_type": "fragment"
    }
   },
   "outputs": [],
   "source": [
    "School_locations[1:3]# up to but not including the end of the slice"
   ]
  },
  {
   "cell_type": "markdown",
   "id": "672db60b",
   "metadata": {
    "slideshow": {
     "slide_type": "fragment"
    }
   },
   "source": [
    "The above prints out element 2 and element 3\n"
   ]
  },
  {
   "cell_type": "markdown",
   "id": "5cfdcc1d",
   "metadata": {
    "slideshow": {
     "slide_type": "slide"
    }
   },
   "source": [
    "### Default Settings: List slicing"
   ]
  },
  {
   "cell_type": "markdown",
   "id": "8c386075",
   "metadata": {
    "slideshow": {
     "slide_type": "fragment"
    }
   },
   "source": [
    "We can slice a list by 'leaving out' a starting (or ending) position. The default is to start at the beginning (or end respectively)."
   ]
  },
  {
   "cell_type": "code",
   "execution_count": null,
   "id": "84e9f9d8",
   "metadata": {
    "slideshow": {
     "slide_type": "fragment"
    }
   },
   "outputs": [],
   "source": [
    "School_locations[:3] #start at beginning stop at index end-1 -----> 3-1=2\n"
   ]
  },
  {
   "cell_type": "markdown",
   "id": "e4c3c0b1",
   "metadata": {
    "slideshow": {
     "slide_type": "slide"
    }
   },
   "source": [
    "### <mark style=\"background-color: Thistle\"> Code comprehension - Multiple Choice</mark>\n",
    "What will the following output?\n",
    "\n",
    "```python\n",
    "School_locations = [\"California\", \"Illinois\", \"North Carolina\", \"Texas\", \"Georgia\", \"Washington D.C.\"]  \n",
    "\n",
    "School_locations[:]\n",
    "```\n",
    "\n",
    "\n",
    "\n",
    "A. ```[]```\n",
    "\n",
    "\n",
    "\n",
    "B. ```[\"California\", \"Washington D.C.\"]  ```\n",
    "\n",
    "\n",
    "\n",
    "\n",
    "C. ```[\"California\", \"Illinois\", \"North Carolina\", \"Texas\", \"Georgia\", \"Washington D.C.\"] ```"
   ]
  },
  {
   "cell_type": "markdown",
   "id": "6926da16",
   "metadata": {
    "slideshow": {
     "slide_type": "slide"
    }
   },
   "source": [
    "### Default Settings: List slicing"
   ]
  },
  {
   "cell_type": "markdown",
   "id": "0db307a6",
   "metadata": {
    "slideshow": {
     "slide_type": "fragment"
    }
   },
   "source": [
    "It might be useful to take out every even index from a list. \n",
    "\n",
    "\n",
    "Suppose you have a list of time data for example.\n",
    "There is an optional arugment we can use when slicing a list, the step.\n",
    "In general ```list[start: end: step]``` with defaults of step=1"
   ]
  },
  {
   "cell_type": "code",
   "execution_count": null,
   "id": "3568a310",
   "metadata": {
    "slideshow": {
     "slide_type": "fragment"
    }
   },
   "outputs": [],
   "source": [
    "School_locations = [\"California\", \"Illinois\", \"North Carolina\", \"Texas\", \"Georgia\", \"Washington D.C.\"]  \n",
    " \n",
    "School_locations[::2]"
   ]
  },
  {
   "cell_type": "markdown",
   "id": "ca9ca0f7",
   "metadata": {
    "slideshow": {
     "slide_type": "slide"
    }
   },
   "source": [
    "### Operations and manipulation on lists\n",
    "\n",
    "\n",
    " - We can insert items into lists!\n",
    "         - either at the end\n",
    "         - inserted in the middle\n",
    "         \n",
    " - Count how many items with a specific value\n",
    " \n",
    " \n",
    " - Sort \n",
    "  "
   ]
  },
  {
   "cell_type": "markdown",
   "id": "dbc8a2dd",
   "metadata": {
    "slideshow": {
     "slide_type": "slide"
    }
   },
   "source": [
    "How do we do this? By using methods.\n",
    "*Methods* are particular built-in functions that work on objects in python. There are specific methods that work for all *list* objects! \n",
    "\n",
    "\n",
    "\n",
    "Methods take the form \n",
    "```python \n",
    "list.method()\n",
    "```\n",
    "\n",
    "\n",
    "Built-in functions can also be applied to objects in python. Recall they take the form \n",
    "\n",
    "```python \n",
    "function_name(list)\n",
    "```\n"
   ]
  },
  {
   "cell_type": "markdown",
   "id": "020bf14a",
   "metadata": {
    "slideshow": {
     "slide_type": "slide"
    }
   },
   "source": [
    "### Appending to a list"
   ]
  },
  {
   "cell_type": "code",
   "execution_count": null,
   "id": "7cd62a2c",
   "metadata": {
    "slideshow": {
     "slide_type": "fragment"
    }
   },
   "outputs": [],
   "source": [
    "#you can append an item to the end of a list\n",
    "\n",
    "\n",
    "School_locations = [\"California\", \"Illinois\", \"North Carolina\", \"Texas\", \"Georgia\", \"Washington D.C.\"]  \n",
    " \n",
    "School_locations.append('Michigan')\n",
    "School_locations"
   ]
  },
  {
   "cell_type": "code",
   "execution_count": null,
   "id": "72abaa62",
   "metadata": {
    "slideshow": {
     "slide_type": "fragment"
    }
   },
   "outputs": [],
   "source": [
    "#Or insert a value based on the index\n",
    "School_locations.insert(4,'tomato')\n",
    "School_locations"
   ]
  },
  {
   "cell_type": "markdown",
   "id": "d7c7faea",
   "metadata": {
    "slideshow": {
     "slide_type": "fragment"
    }
   },
   "source": [
    "Note we didn't assign School_locations, but this automatically changes it for future."
   ]
  },
  {
   "cell_type": "markdown",
   "id": "f8e56615",
   "metadata": {
    "slideshow": {
     "slide_type": "slide"
    }
   },
   "source": [
    "### How do we find methods?"
   ]
  },
  {
   "cell_type": "markdown",
   "id": "8cf8ca32",
   "metadata": {
    "slideshow": {
     "slide_type": "fragment"
    }
   },
   "source": [
    " - Use online documentation!\n",
    "\n",
    "\n",
    "https://docs.python.org/3/tutorial/datastructures.html\n",
    "\n",
    "    \n",
    " - Use built-in function ```dir()```   "
   ]
  },
  {
   "cell_type": "code",
   "execution_count": null,
   "id": "4fd1469f",
   "metadata": {
    "slideshow": {
     "slide_type": "fragment"
    }
   },
   "outputs": [],
   "source": [
    "print(dir(School_locations))\n",
    "\n",
    "print(dir(list))"
   ]
  },
  {
   "cell_type": "markdown",
   "id": "720dff71",
   "metadata": {
    "slideshow": {
     "slide_type": "fragment"
    }
   },
   "source": [
    "A common built-in function:"
   ]
  },
  {
   "cell_type": "code",
   "execution_count": null,
   "id": "a1adeb24",
   "metadata": {
    "slideshow": {
     "slide_type": "fragment"
    }
   },
   "outputs": [],
   "source": [
    "len(School_locations)"
   ]
  },
  {
   "cell_type": "markdown",
   "id": "452419b2",
   "metadata": {
    "slideshow": {
     "slide_type": "slide"
    }
   },
   "source": [
    "### <mark style=\"background-color: Thistle\">Working with Lists: Short Activity!</mark>"
   ]
  },
  {
   "cell_type": "markdown",
   "id": "0d743b88",
   "metadata": {
    "slideshow": {
     "slide_type": "fragment"
    }
   },
   "source": [
    "Create a list with the people in your group! Each person contributes at least one list item. (Recall this can be a string, int, float)\n",
    "\n",
    "With this list, perform the following:"
   ]
  },
  {
   "cell_type": "code",
   "execution_count": null,
   "id": "2a95e3da",
   "metadata": {
    "slideshow": {
     "slide_type": "fragment"
    }
   },
   "outputs": [],
   "source": [
    "#Define your list here\n"
   ]
  },
  {
   "cell_type": "markdown",
   "id": "148397ef",
   "metadata": {
    "slideshow": {
     "slide_type": "fragment"
    }
   },
   "source": [
    "1. Remove elements 2 and 3"
   ]
  },
  {
   "cell_type": "code",
   "execution_count": null,
   "id": "22788d40",
   "metadata": {
    "slideshow": {
     "slide_type": "fragment"
    }
   },
   "outputs": [],
   "source": [
    "#Code here"
   ]
  },
  {
   "cell_type": "markdown",
   "id": "1c2892a8",
   "metadata": {
    "slideshow": {
     "slide_type": "fragment"
    }
   },
   "source": [
    "2. Append your favorite number to the end of the list"
   ]
  },
  {
   "cell_type": "code",
   "execution_count": null,
   "id": "9cad7f07",
   "metadata": {
    "slideshow": {
     "slide_type": "fragment"
    }
   },
   "outputs": [],
   "source": [
    "#Code here"
   ]
  },
  {
   "cell_type": "markdown",
   "id": "e7f2d86e",
   "metadata": {
    "slideshow": {
     "slide_type": "fragment"
    }
   },
   "source": [
    "3. Insert the string \"Math is fun\" at index 2"
   ]
  },
  {
   "cell_type": "code",
   "execution_count": null,
   "id": "68428a15",
   "metadata": {
    "slideshow": {
     "slide_type": "fragment"
    }
   },
   "outputs": [],
   "source": [
    "#Code here"
   ]
  },
  {
   "cell_type": "markdown",
   "id": "8645eb8f",
   "metadata": {
    "slideshow": {
     "slide_type": "fragment"
    }
   },
   "source": [
    "4. Did your above operations change your original list, or create a copy?"
   ]
  },
  {
   "cell_type": "markdown",
   "id": "a7e1a60d",
   "metadata": {
    "slideshow": {
     "slide_type": "fragment"
    }
   },
   "source": [
    "Answer here"
   ]
  },
  {
   "cell_type": "markdown",
   "id": "e950619f",
   "metadata": {
    "slideshow": {
     "slide_type": "fragment"
    }
   },
   "source": [
    "5. (optional) Given list ```number_list = [1,2,3,4,5,6,7]```, create a new list ```new_list = [6,4,2]``` in 2 lines of code. You may have to use list methods."
   ]
  },
  {
   "cell_type": "code",
   "execution_count": null,
   "id": "77b17be1",
   "metadata": {
    "slideshow": {
     "slide_type": "fragment"
    }
   },
   "outputs": [],
   "source": [
    "#Code here"
   ]
  },
  {
   "cell_type": "markdown",
   "id": "ac4ed367",
   "metadata": {
    "slideshow": {
     "slide_type": "slide"
    }
   },
   "source": [
    "## Grouping Data using Arrays \n",
    " (from the NumPy library)\n",
    "\n",
    "Arrays contain a sequence of values\n",
    "\n",
    "\n",
    " - All elements of an array must have the same type\n",
    " \n",
    " \n",
    "   - Why? Numpy arrays were built for efficient computation\n",
    "\n",
    " - Can perform operations on all elements in one step\n",
    " - When two arrays are added they must have the same size \n",
    "   - Corresponds to elementwise addition"
   ]
  },
  {
   "cell_type": "markdown",
   "id": "c9c3aab8",
   "metadata": {
    "slideshow": {
     "slide_type": "slide"
    }
   },
   "source": [
    "### Lists vs Arrays\n",
    "\n",
    "- Lists are more flexible\n",
    "    - Can contain elements of different types\n",
    "    \n",
    " \n",
    "- NumPy arrays have some advantages\n",
    "    - size - they take up less computer memory than lists\n",
    "    - performance - faster acces than lists\n",
    "    - functionality - linear algebra functions built in\n",
    "    - can be multiple dimensions"
   ]
  },
  {
   "cell_type": "markdown",
   "id": "f4405380",
   "metadata": {
    "slideshow": {
     "slide_type": "slide"
    }
   },
   "source": [
    "### Creating an array\n",
    "\n",
    "\n",
    "First import the NumPy library!!\n",
    "\n",
    "```python \n",
    "import numpy as np\n",
    "\n",
    "np.array([])\n",
    "```"
   ]
  },
  {
   "cell_type": "code",
   "execution_count": null,
   "id": "2b99d833",
   "metadata": {
    "slideshow": {
     "slide_type": "fragment"
    }
   },
   "outputs": [],
   "source": [
    "import numpy as np\n",
    "\n",
    "np.array([1,2])"
   ]
  },
  {
   "cell_type": "code",
   "execution_count": null,
   "id": "9e43a0f7",
   "metadata": {
    "slideshow": {
     "slide_type": "fragment"
    }
   },
   "outputs": [],
   "source": [
    "tomato_list = [22, 38, 26, 35, 35,'tomato']\n",
    "print(tomato_list) "
   ]
  },
  {
   "cell_type": "code",
   "execution_count": null,
   "id": "10d10106",
   "metadata": {
    "slideshow": {
     "slide_type": "fragment"
    }
   },
   "outputs": [],
   "source": [
    "tomato_array = np.array([22, 38, 26, 35, 35,'tomato'])\n",
    "print(tomato_array)"
   ]
  },
  {
   "cell_type": "markdown",
   "id": "8b177086",
   "metadata": {
    "slideshow": {
     "slide_type": "notes"
    }
   },
   "source": [
    "A list has different types, an array will default to one, i.e. all ints were changed to strings\n",
    "\n",
    "\n",
    "An array will make sure everything is the same type"
   ]
  },
  {
   "cell_type": "markdown",
   "id": "97d2b90e",
   "metadata": {
    "slideshow": {
     "slide_type": "slide"
    }
   },
   "source": [
    "### Exploring arrays"
   ]
  },
  {
   "cell_type": "code",
   "execution_count": null,
   "id": "20e80e63",
   "metadata": {
    "slideshow": {
     "slide_type": "fragment"
    }
   },
   "outputs": [],
   "source": [
    "#create an array - converting a python list to a numpy array\n",
    "prime50_array = np.array([2, 3, 5, 7, 11, 13, 17, 19, 23, 29, 31, 37, 41, 43, 47])\n",
    "\n",
    "print(type(prime50_array))"
   ]
  },
  {
   "cell_type": "markdown",
   "id": "4bc20f0c",
   "metadata": {
    "slideshow": {
     "slide_type": "fragment"
    }
   },
   "source": [
    "What can we explore using arrays?\n",
    "\n",
    " - Extraction and Slicing (extracting elements and sub-arrays)\n",
    " \n",
    " - Attributes (characteristics of arrays: shape, ndim, size)\n",
    " \n",
    " - Methods and Built-in Functions\n",
    "\n",
    " - Manipulation of Arrays (Operations, reshaping, ...)"
   ]
  },
  {
   "cell_type": "markdown",
   "id": "184ef115",
   "metadata": {
    "slideshow": {
     "slide_type": "slide"
    }
   },
   "source": [
    "Extraction and slicing of one dimensional arrays work exactly the same as lists!"
   ]
  },
  {
   "cell_type": "code",
   "execution_count": null,
   "id": "9ea8ea77",
   "metadata": {
    "slideshow": {
     "slide_type": "fragment"
    }
   },
   "outputs": [],
   "source": [
    "print(prime50_array[1]) #extracts second element\n",
    "\n",
    "prime50_array[1:2] #starting at index 1 and up to (but excluding) index 2"
   ]
  },
  {
   "cell_type": "markdown",
   "id": "90a34e66",
   "metadata": {
    "slideshow": {
     "slide_type": "slide"
    }
   },
   "source": [
    "### Arrays have attributes\n",
    "\n",
    "Characteristics of the object!\n",
    "(See https://numpy.org/doc/stable/reference/generated/numpy.ndarray.html)\n",
    "\n",
    "- Size ---> .size\n",
    "\n",
    "- Shape ---> .shape"
   ]
  },
  {
   "cell_type": "code",
   "execution_count": null,
   "id": "dce95ddd",
   "metadata": {
    "slideshow": {
     "slide_type": "fragment"
    }
   },
   "outputs": [],
   "source": [
    "prime50_array.size"
   ]
  },
  {
   "cell_type": "code",
   "execution_count": null,
   "id": "223d5c1c",
   "metadata": {
    "slideshow": {
     "slide_type": "fragment"
    }
   },
   "outputs": [],
   "source": [
    "prime50_array.shape"
   ]
  },
  {
   "cell_type": "markdown",
   "id": "7b16cffd",
   "metadata": {
    "slideshow": {
     "slide_type": "slide"
    }
   },
   "source": [
    "### Arrays have useful methods\n",
    "\n",
    " -  .sum()\n",
    "    \n",
    " -  .reshape()\n",
    "\n",
    " -  .nonzero()\n",
    " \n",
    " \n",
    " (very incomplete list)\n",
    " \n",
    "(see the documentation for a complete list: https://numpy.org/doc/stable/reference/generated/numpy.ndarray.html)\n"
   ]
  },
  {
   "cell_type": "code",
   "execution_count": null,
   "id": "2c4ca0bb",
   "metadata": {
    "slideshow": {
     "slide_type": "fragment"
    }
   },
   "outputs": [],
   "source": [
    "print(prime50_array.sum())\n",
    "#We cannot always sum a list becuase a list can have different data types!\n"
   ]
  },
  {
   "cell_type": "markdown",
   "id": "2c96ffed",
   "metadata": {
    "slideshow": {
     "slide_type": "slide"
    }
   },
   "source": [
    "## Arrays have many useful built-in functions!\n",
    "\n",
    "\n",
    "Notice there is often more than one way to do a common operation!"
   ]
  },
  {
   "cell_type": "code",
   "execution_count": null,
   "id": "1e414ca8",
   "metadata": {
    "slideshow": {
     "slide_type": "fragment"
    }
   },
   "outputs": [],
   "source": [
    "print(prime50_array.sum()) #sum method\n",
    "\n",
    "print(np.sum(prime50_array)) #sum built in function (from NumPy library)\n",
    "      \n",
    "print(np.count_nonzero(np.array([1,2,0,2,1,0,2])))\n",
    "\n",
    "print(np.mean(prime50_array))"
   ]
  },
  {
   "cell_type": "markdown",
   "id": "51b9c8b2",
   "metadata": {
    "slideshow": {
     "slide_type": "slide"
    }
   },
   "source": [
    "### We can easily create arrays by specifying a range.\n",
    "\n",
    "Calling ```np.arange()``` creates a half-closed interval \\[start,end) - the end value is not included\n",
    "\n"
   ]
  },
  {
   "cell_type": "code",
   "execution_count": null,
   "id": "dccd35d6",
   "metadata": {
    "slideshow": {
     "slide_type": "fragment"
    }
   },
   "outputs": [],
   "source": [
    "np.arange(4,10)"
   ]
  },
  {
   "cell_type": "code",
   "execution_count": null,
   "id": "9a14590c",
   "metadata": {
    "slideshow": {
     "slide_type": "fragment"
    }
   },
   "outputs": [],
   "source": [
    "#if you leave out the start, the default is zero; \n",
    "print(np.arange(10))"
   ]
  },
  {
   "cell_type": "markdown",
   "id": "728713af",
   "metadata": {
    "slideshow": {
     "slide_type": "fragment"
    }
   },
   "source": [
    "We can specify a step size we want to increment by. If we leave out the step, the default is one\n"
   ]
  },
  {
   "cell_type": "code",
   "execution_count": null,
   "id": "00504290",
   "metadata": {
    "slideshow": {
     "slide_type": "fragment"
    }
   },
   "outputs": [],
   "source": [
    "print(np.arange(1,31,2))"
   ]
  },
  {
   "cell_type": "markdown",
   "id": "acfa7988",
   "metadata": {
    "slideshow": {
     "slide_type": "slide"
    }
   },
   "source": [
    "## Another reason why arrays are useful!\n",
    "\n",
    "Elementwise operations!"
   ]
  },
  {
   "cell_type": "code",
   "execution_count": null,
   "id": "26e5f840",
   "metadata": {
    "slideshow": {
     "slide_type": "fragment"
    }
   },
   "outputs": [],
   "source": [
    "array_1 = np.arange(10)\n",
    "array_2 = np.array([1,2,3,4,5,6,7,8,9,10])\n",
    "difference_array = array_1 - array_2\n",
    "difference_array"
   ]
  },
  {
   "cell_type": "markdown",
   "id": "76c61a4d",
   "metadata": {
    "slideshow": {
     "slide_type": "slide"
    }
   },
   "source": [
    "## <mark style=\"background-color: Thistle\"> Code comprehension: Multiple Choice </mark>"
   ]
  },
  {
   "cell_type": "markdown",
   "id": "4dea1f1b",
   "metadata": {
    "slideshow": {
     "slide_type": "fragment"
    }
   },
   "source": [
    "#### What will be printed?\n",
    "\n",
    "```python \n",
    "import numpy as np\n",
    "a = np.array([1,2,3,5,8])\n",
    "b = np.array([0,3,4,2,1])\n",
    "c = a + b\n",
    "c = c*a\n",
    "print (c[2])\n",
    "```\n",
    "\n",
    "A. 7\n",
    "\n",
    "B. 12\n",
    "\n",
    "C. 10\n",
    "\n",
    "D. 21\n",
    "\n",
    "E. 28"
   ]
  },
  {
   "cell_type": "markdown",
   "id": "98e1a5d6",
   "metadata": {
    "slideshow": {
     "slide_type": "slide"
    }
   },
   "source": [
    "## <mark style=\"background-color: Thistle\"> Code comprehension: Multiple Choice </mark>"
   ]
  },
  {
   "cell_type": "markdown",
   "id": "cd9bc367",
   "metadata": {
    "slideshow": {
     "slide_type": "fragment"
    }
   },
   "source": [
    "What will be output for the following code? \n",
    "\n",
    "```python \n",
    " number_array = np.array([1,2,3,5,8])\n",
    " number_array = number_array + 1\n",
    " print(number_array[1])\n",
    "```\n",
    "\n",
    " A. 0\n",
    "    \n",
    " B. 1\n",
    "\n",
    " C. 2\n",
    "    \n",
    " D. 3"
   ]
  },
  {
   "cell_type": "markdown",
   "id": "e088cd19",
   "metadata": {
    "slideshow": {
     "slide_type": "slide"
    }
   },
   "source": [
    "## <mark style=\"background-color: Thistle\">Working with Arrays: Short Activity!</mark>\n",
    "\n",
    "Use the following array to answer the questions\n"
   ]
  },
  {
   "cell_type": "code",
   "execution_count": null,
   "id": "512a6d39",
   "metadata": {
    "slideshow": {
     "slide_type": "fragment"
    }
   },
   "outputs": [],
   "source": [
    "random_number_array = np.array([32, 56, 78, 3, 15, 109, 13, 24, 58, 61, 90, 93, 45, 21, 46])"
   ]
  },
  {
   "cell_type": "markdown",
   "id": "4beae21b",
   "metadata": {
    "slideshow": {
     "slide_type": "fragment"
    }
   },
   "source": [
    "1. Remove elements 2 and 3"
   ]
  },
  {
   "cell_type": "code",
   "execution_count": null,
   "id": "2587b7cf",
   "metadata": {
    "slideshow": {
     "slide_type": "fragment"
    }
   },
   "outputs": [],
   "source": [
    "#code here"
   ]
  },
  {
   "cell_type": "markdown",
   "id": "b95cd72c",
   "metadata": {},
   "source": [
    "2. Use a method to find the minimum value in the array"
   ]
  },
  {
   "cell_type": "code",
   "execution_count": null,
   "id": "40519cb1",
   "metadata": {},
   "outputs": [],
   "source": [
    "#code here"
   ]
  },
  {
   "cell_type": "markdown",
   "id": "8451bd78",
   "metadata": {},
   "source": [
    "3. Find the 4th smallest element in the array"
   ]
  },
  {
   "cell_type": "code",
   "execution_count": null,
   "id": "317e5bd1",
   "metadata": {},
   "outputs": [],
   "source": [
    "#code here"
   ]
  },
  {
   "cell_type": "markdown",
   "id": "3b267930",
   "metadata": {
    "slideshow": {
     "slide_type": "slide"
    }
   },
   "source": [
    "## Dictionaries"
   ]
  },
  {
   "cell_type": "markdown",
   "id": "638ad525",
   "metadata": {
    "slideshow": {
     "slide_type": "fragment"
    }
   },
   "source": [
    "A **dictionary** is a set of \"key: value\" pairs\n",
    "\n",
    "- keys must be unique\n",
    "\n",
    "Create a dictionary with square brackets \"{}\" \n",
    "\n",
    "Entries of a dictionary are of the form \"key: value\" \n",
    "\n"
   ]
  },
  {
   "cell_type": "code",
   "execution_count": null,
   "id": "33cdd952",
   "metadata": {
    "slideshow": {
     "slide_type": "fragment"
    }
   },
   "outputs": [],
   "source": [
    "survey_dict = {0: \"Strongly Disagree\", 1: \"Disagree\", 2: \"No opinion\", 3: \"Agree\", 4: \"Strongly Agree\"}"
   ]
  },
  {
   "cell_type": "markdown",
   "id": "63b6486b",
   "metadata": {
    "slideshow": {
     "slide_type": "fragment"
    }
   },
   "source": [
    "Access elements of dictionary by key!"
   ]
  },
  {
   "cell_type": "code",
   "execution_count": null,
   "id": "527c0d89",
   "metadata": {
    "slideshow": {
     "slide_type": "fragment"
    }
   },
   "outputs": [],
   "source": [
    "survey_dict[1]"
   ]
  },
  {
   "cell_type": "markdown",
   "id": "78b99c06",
   "metadata": {
    "slideshow": {
     "slide_type": "slide"
    }
   },
   "source": [
    "Dictionaries are useful in storing and extracting!"
   ]
  },
  {
   "cell_type": "markdown",
   "id": "cc160bc5",
   "metadata": {
    "slideshow": {
     "slide_type": "fragment"
    }
   },
   "source": [
    "A few useful operations with dictionaries:\n",
    "\n",
    " - Add an entry\n",
    " \n",
    " - Delete an entry"
   ]
  },
  {
   "cell_type": "markdown",
   "id": "b3f52aad",
   "metadata": {
    "slideshow": {
     "slide_type": "fragment"
    }
   },
   "source": [
    "Add and delete pairs!"
   ]
  },
  {
   "cell_type": "code",
   "execution_count": null,
   "id": "72c91f28",
   "metadata": {
    "slideshow": {
     "slide_type": "fragment"
    }
   },
   "outputs": [],
   "source": [
    "del survey_dict[1]"
   ]
  },
  {
   "cell_type": "code",
   "execution_count": null,
   "id": "3d4cd5cb",
   "metadata": {
    "slideshow": {
     "slide_type": "fragment"
    }
   },
   "outputs": [],
   "source": [
    "survey_dict"
   ]
  },
  {
   "cell_type": "code",
   "execution_count": null,
   "id": "c1fe0771",
   "metadata": {
    "slideshow": {
     "slide_type": "fragment"
    }
   },
   "outputs": [],
   "source": [
    "#this adds a key\n",
    "survey_dict['new_key'] = 'new value'"
   ]
  },
  {
   "cell_type": "code",
   "execution_count": null,
   "id": "1ae2a3a5",
   "metadata": {
    "slideshow": {
     "slide_type": "fragment"
    }
   },
   "outputs": [],
   "source": [
    "survey_dict"
   ]
  },
  {
   "cell_type": "markdown",
   "id": "39e80e3d",
   "metadata": {
    "slideshow": {
     "slide_type": "slide"
    }
   },
   "source": [
    "Note we can also determine if keys are contained in the dictionary"
   ]
  },
  {
   "cell_type": "code",
   "execution_count": null,
   "id": "861541f6",
   "metadata": {
    "slideshow": {
     "slide_type": "fragment"
    }
   },
   "outputs": [],
   "source": [
    "3 in survey_dict"
   ]
  },
  {
   "cell_type": "code",
   "execution_count": null,
   "id": "f0f345f3",
   "metadata": {
    "slideshow": {
     "slide_type": "fragment"
    }
   },
   "outputs": [],
   "source": [
    "\"Disagree\" in survey_dict"
   ]
  },
  {
   "cell_type": "code",
   "execution_count": null,
   "id": "0b8eb258",
   "metadata": {
    "slideshow": {
     "slide_type": "fragment"
    }
   },
   "outputs": [],
   "source": [
    "'new_key' in survey_dict"
   ]
  },
  {
   "cell_type": "markdown",
   "id": "61c75595",
   "metadata": {
    "slideshow": {
     "slide_type": "slide"
    }
   },
   "source": [
    "Keep in mind, keys do not all need to be the same type..although it may make more sense to keep them that way.\n"
   ]
  },
  {
   "cell_type": "code",
   "execution_count": null,
   "id": "01fe3704",
   "metadata": {
    "slideshow": {
     "slide_type": "fragment"
    }
   },
   "outputs": [],
   "source": [
    "survey_dict_2 = {\"Strongly Disagree\": 0 , \"Disagree\": 1 , 2: \"No opinion\", 3: \"Agree\", 4: \"Strongly Agree\"}"
   ]
  },
  {
   "cell_type": "code",
   "execution_count": null,
   "id": "9f61668d",
   "metadata": {
    "slideshow": {
     "slide_type": "fragment"
    }
   },
   "outputs": [],
   "source": [
    "survey_dict_2[\"Disagree\"]"
   ]
  },
  {
   "cell_type": "code",
   "execution_count": null,
   "id": "46b81e55",
   "metadata": {
    "slideshow": {
     "slide_type": "fragment"
    }
   },
   "outputs": [],
   "source": [
    "list(survey_dict_2)"
   ]
  },
  {
   "cell_type": "markdown",
   "id": "3f9e0130",
   "metadata": {
    "slideshow": {
     "slide_type": "slide"
    }
   },
   "source": [
    "### Dictionary Methods"
   ]
  },
  {
   "cell_type": "code",
   "execution_count": null,
   "id": "f19dccf8",
   "metadata": {
    "slideshow": {
     "slide_type": "fragment"
    }
   },
   "outputs": [],
   "source": [
    "print(dir(survey_dict_2))"
   ]
  },
  {
   "cell_type": "code",
   "execution_count": null,
   "id": "1503380e",
   "metadata": {
    "slideshow": {
     "slide_type": "fragment"
    }
   },
   "outputs": [],
   "source": [
    "survey_dict.keys()"
   ]
  },
  {
   "cell_type": "code",
   "execution_count": null,
   "id": "1d5f0aec",
   "metadata": {
    "slideshow": {
     "slide_type": "fragment"
    }
   },
   "outputs": [],
   "source": [
    "survey_dict"
   ]
  },
  {
   "cell_type": "markdown",
   "id": "ff177a51",
   "metadata": {
    "slideshow": {
     "slide_type": "slide"
    }
   },
   "source": [
    "## <mark style=\"background-color: Thistle\">Working with Dictionaries: Short Activity!</mark>\n",
    "\n",
    "Below is a dictionary containing total number of homicides in the United States in 2021, by state. (Published by Statista Research Department, Oct 14, 2022). Note Washington D.C. is included as 'District of Columbia'.\n",
    "\n",
    "1. Pick a few states of interest and find their homicide number (use code here...do not just manually search the dictionary!)\n",
    "\n",
    "\n",
    "2. Find the number of keys in the dictionary. Does this imply all 50 states are included here?\n",
    "\n",
    "\n",
    "3. What are some limitations to this data?\n"
   ]
  },
  {
   "cell_type": "code",
   "execution_count": null,
   "id": "1ee7ee01",
   "metadata": {
    "slideshow": {
     "slide_type": "fragment"
    }
   },
   "outputs": [],
   "source": [
    "homicide_dict = {'Texas': 2064, 'North Carolina': 928, 'Ohio': 824, 'Michigan': 747, 'Georgia': 728, 'Tennessee': 672, 'Missouri': 593, 'Virginia': 562, 'South Carolina': 548, 'Illinois': 514, 'Pennsylvania': 510, 'Louisiana': 447, 'Indiana': 438, 'Alabama': 370, 'Kentucky': 365, 'Colorado': 358, 'Washington': 325, 'Arkansas': 321, 'Wisconsin': 315, 'Oklahoma': 284, 'Nevada': 232, 'Minnesota': 203, 'Arizona': 190, 'Oregon': 188, 'New Mexico': 169, 'Mississippi': 149, 'Connecticut': 148, 'Maryland': 138, 'New Jersey': 137, 'Massachusetts': 132, 'New York': 124, 'California': 123, 'District of Columbia': 109, 'West Virginia': 95, 'Delaware': 94, 'Kansas': 87, 'Utah': 85, 'Iowa': 70, 'Rhode Island': 38, 'Idaho': 36, 'Montana': 31, 'South Dakota': 26, 'Nebraska': 25, 'Alaska': 18, 'Maine': 18, 'Wyoming': 17, 'New Hampshire': 14, 'North Dakota': 14, 'Vermont': 8, 'Hawaii': 6}"
   ]
  },
  {
   "cell_type": "code",
   "execution_count": null,
   "id": "3d005775",
   "metadata": {
    "slideshow": {
     "slide_type": "fragment"
    }
   },
   "outputs": [],
   "source": [
    "#code here"
   ]
  },
  {
   "cell_type": "markdown",
   "id": "bb630ee3",
   "metadata": {
    "slideshow": {
     "slide_type": "slide"
    }
   },
   "source": [
    "## Grouping Data with DataFrames \n",
    "(from the Pandas library)"
   ]
  },
  {
   "cell_type": "markdown",
   "id": "1a570948",
   "metadata": {
    "slideshow": {
     "slide_type": "fragment"
    }
   },
   "source": [
    "### Different objects for different goals\n",
    "\n",
    "Method 1: (Using lists from python (no import numpy needed))\n",
    "- list of lists\n",
    "- Hard to manipulate\n",
    "\n",
    "\n",
    "Method 2: (Using np.array)\n",
    "- All values of same data type\n",
    "- Easy to do math and matrix manipulations\n",
    "- No row column names\n",
    "\n",
    "\n",
    "Method 3: (Using pandas DataFrames)\n",
    "- Columns can have different types\n",
    "- Easy to manipulate by name\n",
    "- row and column names built in!"
   ]
  },
  {
   "cell_type": "markdown",
   "id": "5f3a6745",
   "metadata": {
    "slideshow": {
     "slide_type": "slide"
    }
   },
   "source": [
    "### DataFrames"
   ]
  },
  {
   "cell_type": "markdown",
   "id": "fd2c6382",
   "metadata": {
    "slideshow": {
     "slide_type": "fragment"
    }
   },
   "source": [
    "- Gives rows and columns of data\n",
    "- Rows are \"individuals\" or \"instances\"\n",
    "- Columns are attributes of those individuals"
   ]
  },
  {
   "cell_type": "markdown",
   "id": "9e08f5c6",
   "metadata": {
    "slideshow": {
     "slide_type": "slide"
    }
   },
   "source": [
    "### Storing Data in 3 ways"
   ]
  },
  {
   "cell_type": "markdown",
   "id": "58434e00",
   "metadata": {
    "slideshow": {
     "slide_type": "fragment"
    }
   },
   "source": [
    "Suppose we take a survey of student ID, favorite number, and favorite food"
   ]
  },
  {
   "cell_type": "code",
   "execution_count": null,
   "id": "0471dd00",
   "metadata": {
    "slideshow": {
     "slide_type": "fragment"
    }
   },
   "outputs": [],
   "source": [
    "list_of_lists=[['Pizza','Pierogi','Ramen'],  #fav food\n",
    "               [0,22,-3.1415],  #fav number\n",
    "               [1234, 4456, 5882]]   #Student ID\n",
    "\n",
    "list_of_lists"
   ]
  },
  {
   "cell_type": "code",
   "execution_count": null,
   "id": "3a7df274",
   "metadata": {
    "slideshow": {
     "slide_type": "fragment"
    }
   },
   "outputs": [],
   "source": [
    "#This is a 2D array\n",
    "np.array([['Pizza','Pierogi','Ramen'],  #fav food\n",
    "               [0,22,-3.1415],  #fav number\n",
    "               [1234, 4456, 5882]]) #student id"
   ]
  },
  {
   "cell_type": "code",
   "execution_count": null,
   "id": "372ac5e8",
   "metadata": {
    "slideshow": {
     "slide_type": "fragment"
    }
   },
   "outputs": [],
   "source": [
    "#igore this code for now, dataframe creation will be dicussed in more detail on Tuesday!\n",
    "df = pd.DataFrame(\n",
    "    { 1:['Pizza','Pierogi','Ramen'],  #fav food\n",
    "      2:[0,22,-3.1415], #fav number\n",
    "     3:[1234, 4456, 5882]}) #id\n",
    "\n",
    "df"
   ]
  },
  {
   "cell_type": "markdown",
   "id": "5af09746",
   "metadata": {
    "slideshow": {
     "slide_type": "skip"
    }
   },
   "source": [
    "### Additional material\n",
    "\n",
    "\n",
    "We often find that we want to format the output of our code in a nice way. This includes printing string and code output. In Python, there are multiple ways to do this. Two options are listed below. Consider our prime50_array for this exercise."
   ]
  },
  {
   "cell_type": "code",
   "execution_count": null,
   "id": "fe92cf74",
   "metadata": {
    "slideshow": {
     "slide_type": "skip"
    }
   },
   "outputs": [],
   "source": [
    "prime50_array "
   ]
  },
  {
   "cell_type": "code",
   "execution_count": null,
   "id": "1f5e4d36",
   "metadata": {
    "slideshow": {
     "slide_type": "skip"
    }
   },
   "outputs": [],
   "source": [
    "#Option 1: print string and code seperated by a comma\n",
    "print(\"array:\", prime50_array) \n",
    "\n",
    "print(\"max:\", np.max(prime50_array)) #we can apply functions directly to code output\n",
    "\n",
    "\n",
    "#Option 2: print string and code by converting everything to a string and concatenating\n",
    "print(\"Maximum prime under 50 is \" + str(np.max(prime50_array)))"
   ]
  },
  {
   "cell_type": "markdown",
   "id": "e1f13802",
   "metadata": {
    "slideshow": {
     "slide_type": "skip"
    }
   },
   "source": [
    "Question: Take the last output and add a period in the code output."
   ]
  },
  {
   "cell_type": "code",
   "execution_count": null,
   "id": "df449a32",
   "metadata": {},
   "outputs": [],
   "source": []
  }
 ],
 "metadata": {
  "kernelspec": {
   "display_name": "Python 3 (ipykernel)",
   "language": "python",
   "name": "python3"
  },
  "language_info": {
   "codemirror_mode": {
    "name": "ipython",
    "version": 3
   },
   "file_extension": ".py",
   "mimetype": "text/x-python",
   "name": "python",
   "nbconvert_exporter": "python",
   "pygments_lexer": "ipython3",
   "version": "3.9.12"
  }
 },
 "nbformat": 4,
 "nbformat_minor": 5
}
